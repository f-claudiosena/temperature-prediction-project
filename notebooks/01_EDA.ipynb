# 01_EDA.ipynb
import pandas as pd
import seaborn as sns
import matplotlib.pyplot as plt

# Carregamento
df = pd.read_csv('/workspaces/temperature-prediction-project/data/weatherHistory.csv')

# Info inicial
print(df.shape)
print(df.dtypes)
print(df.isnull().sum())

# Estatísticas descritivas
print(df.describe())

# Conversão da data
df['Formatted Date'] = pd.to_datetime(df['Formatted Date'], utc=True)

# Feature extra: hora e mês
df['hour'] = df['Formatted Date'].dt.hour
df['month'] = df['Formatted Date'].dt.month
