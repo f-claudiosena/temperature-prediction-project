{
 "cells": [
  {
   "cell_type": "code",
   "execution_count": 2,
   "id": "affa9542",
   "metadata": {},
   "outputs": [],
   "source": [
    "# 02_Preprocessing.ipynb\n",
    "import pandas as pd\n",
    "from sklearn.preprocessing import StandardScaler, OneHotEncoder\n",
    "from sklearn.compose import ColumnTransformer\n",
    "from sklearn.model_selection import train_test_split\n",
    "\n",
    "df = pd.read_csv('/workspaces/temperature-prediction-project/data/weatherHistory.csv')\n",
    "df['Formatted Date'] = pd.to_datetime(df['Formatted Date'], utc=True)\n",
    "df['hour'] = df['Formatted Date'].dt.hour\n",
    "df['month'] = df['Formatted Date'].dt.month\n",
    "\n",
    "# Drop coluna sem variância e data\n",
    "df.drop(columns=['Formatted Date', 'Loud Cover', 'Daily Summary'], inplace=True)\n",
    "\n",
    "# Drop missing\n",
    "df.dropna(inplace=True)\n",
    "\n",
    "# Features e target\n",
    "X = df.drop(columns=['Temperature (C)'])\n",
    "y = df['Temperature (C)']\n"
   ]
  },
  {
   "cell_type": "code",
   "execution_count": 3,
   "id": "dc5a196e",
   "metadata": {},
   "outputs": [],
   "source": [
    "\n",
    "# Separação treino/teste\n",
    "X_train, X_test, y_train, y_test = train_test_split(X, y, test_size=0.2, random_state=42)\n",
    "\n",
    "# Pré-processador\n",
    "numeric_features = X.select_dtypes(include='number').columns\n",
    "categorical_features = ['Summary', 'Precip Type']\n",
    "\n",
    "preprocessor = ColumnTransformer([\n",
    "    ('num', StandardScaler(), numeric_features),\n",
    "    ('cat', OneHotEncoder(handle_unknown='ignore'), categorical_features)\n",
    "])\n"
   ]
  },
  {
   "cell_type": "code",
   "execution_count": 6,
   "id": "afb75746",
   "metadata": {},
   "outputs": [
    {
     "data": {
      "text/plain": [
       "['/workspaces/temperature-prediction-project/data/preprocessed_data.pkl']"
      ]
     },
     "execution_count": 6,
     "metadata": {},
     "output_type": "execute_result"
    }
   ],
   "source": [
    "# Exportar objetos\n",
    "import joblib\n",
    "joblib.dump((X_train, X_test, y_train, y_test, preprocessor), '/workspaces/temperature-prediction-project/data/preprocessed_data.pkl')\n"
   ]
  },
  {
   "cell_type": "code",
   "execution_count": null,
   "id": "200bffb0",
   "metadata": {},
   "outputs": [],
   "source": []
  }
 ],
 "metadata": {
  "kernelspec": {
   "display_name": "Python 3",
   "language": "python",
   "name": "python3"
  },
  "language_info": {
   "codemirror_mode": {
    "name": "ipython",
    "version": 3
   },
   "file_extension": ".py",
   "mimetype": "text/x-python",
   "name": "python",
   "nbconvert_exporter": "python",
   "pygments_lexer": "ipython3",
   "version": "3.12.1"
  }
 },
 "nbformat": 4,
 "nbformat_minor": 5
}
