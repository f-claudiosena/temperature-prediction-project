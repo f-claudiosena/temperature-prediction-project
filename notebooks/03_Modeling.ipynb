{
 "cells": [
  {
   "cell_type": "code",
   "execution_count": 1,
   "id": "c4c523fe",
   "metadata": {},
   "outputs": [],
   "source": [
    "# 03_Modeling.ipynb\n",
    "import joblib\n",
    "from sklearn.linear_model import LinearRegression\n",
    "from sklearn.ensemble import RandomForestRegressor\n",
    "from sklearn.pipeline import Pipeline\n",
    "from sklearn.metrics import mean_absolute_error, r2_score\n",
    "\n",
    "# Load\n",
    "X_train, X_test, y_train, y_test, preprocessor = joblib.load('/workspaces/temperature-prediction-project/data/preprocessed_data.pkl')"
   ]
  },
  {
   "cell_type": "code",
   "execution_count": 2,
   "id": "55f673e4",
   "metadata": {},
   "outputs": [
    {
     "name": "stdout",
     "output_type": "stream",
     "text": [
      "\n",
      "Linear Regression\n",
      "MAE: 0.7361419767448404\n",
      "R²: 0.9903127264263686\n",
      "\n",
      "Random Forest\n",
      "MAE: 0.013685990086403319\n",
      "R²: 0.9999639040310524\n"
     ]
    }
   ],
   "source": [
    "# Pipeline\n",
    "models = {\n",
    "    \"Linear Regression\": LinearRegression(),\n",
    "    \"Random Forest\": RandomForestRegressor(n_estimators=100, random_state=42)\n",
    "}\n",
    "\n",
    "for name, model in models.items():\n",
    "    pipe = Pipeline([('pre', preprocessor), ('model', model)])\n",
    "    pipe.fit(X_train, y_train)\n",
    "    y_pred = pipe.predict(X_test)\n",
    "    \n",
    "    print(f\"\\n{name}\")\n",
    "    print(\"MAE:\", mean_absolute_error(y_test, y_pred))\n",
    "    print(\"R²:\", r2_score(y_test, y_pred))\n",
    "\n",
    "    joblib.dump(pipe, f'/workspaces/temperature-prediction-project/data/{name.replace(\" \", \"_\").lower()}_model.pkl')\n"
   ]
  },
  {
   "cell_type": "code",
   "execution_count": null,
   "id": "cb68e26e",
   "metadata": {},
   "outputs": [],
   "source": []
  }
 ],
 "metadata": {
  "kernelspec": {
   "display_name": "Python 3",
   "language": "python",
   "name": "python3"
  },
  "language_info": {
   "codemirror_mode": {
    "name": "ipython",
    "version": 3
   },
   "file_extension": ".py",
   "mimetype": "text/x-python",
   "name": "python",
   "nbconvert_exporter": "python",
   "pygments_lexer": "ipython3",
   "version": "3.12.1"
  }
 },
 "nbformat": 4,
 "nbformat_minor": 5
}
